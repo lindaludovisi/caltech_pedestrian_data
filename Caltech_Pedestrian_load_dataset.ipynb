{
  "nbformat": 4,
  "nbformat_minor": 0,
  "metadata": {
    "colab": {
      "name": "Caltech_Pedestrian_load_dataset.ipynb",
      "provenance": [],
      "collapsed_sections": [
        "r6yLnTg3r-uH"
      ],
      "toc_visible": true
    },
    "kernelspec": {
      "name": "python3",
      "display_name": "Python 3"
    },
    "language_info": {
      "name": "python"
    }
  },
  "cells": [
    {
      "cell_type": "markdown",
      "metadata": {
        "id": "wn1ZBXKar7lx"
      },
      "source": [
        "# Libraries\n"
      ]
    },
    {
      "cell_type": "code",
      "metadata": {
        "id": "CdDiAY-rQ8NX"
      },
      "source": [
        "import os"
      ],
      "execution_count": null,
      "outputs": []
    },
    {
      "cell_type": "code",
      "metadata": {
        "colab": {
          "base_uri": "https://localhost:8080/"
        },
        "id": "mOsb5eNG7Cle",
        "outputId": "a61c41a3-b7ff-4232-c996-b44481cd3f19"
      },
      "source": [
        "# You have to connect to your own drive, with a folder \"dataset_pedestrian\" containing folders \"set00\", \n",
        "# \"set01\", \"set02\", ..., \"annotations\" with their respective content.\n",
        "\n",
        "from google.colab import drive\n",
        "\n",
        "drive.mount('/content/gdrive')"
      ],
      "execution_count": null,
      "outputs": [
        {
          "output_type": "stream",
          "text": [
            "Drive already mounted at /content/gdrive; to attempt to forcibly remount, call drive.mount(\"/content/gdrive\", force_remount=True).\n"
          ],
          "name": "stdout"
        }
      ]
    },
    {
      "cell_type": "markdown",
      "metadata": {
        "id": "r6yLnTg3r-uH"
      },
      "source": [
        "# Load the data (skip this if you have jpeg files ready)"
      ]
    },
    {
      "cell_type": "markdown",
      "metadata": {
        "id": "zb6XDjBEsCwu"
      },
      "source": [
        "With the help of an online repository, I downloaded some key functions to generate the dataset videos starting from *.seq files."
      ]
    },
    {
      "cell_type": "code",
      "metadata": {
        "colab": {
          "base_uri": "https://localhost:8080/"
        },
        "id": "yLoE4RrfQR0M",
        "outputId": "e62b6ac8-6d2b-4a2b-aabe-aa965dc5aede"
      },
      "source": [
        "!rm -r repo # Reload github repository\n",
        "\n",
        "if not os.path.isdir('./repo'):\n",
        "  !git clone https://github.com/dbcollection/caltech_pedestrian_extractor.git\n",
        "  !mv 'caltech_pedestrian_extractor' 'repo' \n",
        "os.chdir('repo') # Change working directory"
      ],
      "execution_count": null,
      "outputs": [
        {
          "output_type": "stream",
          "text": [
            "rm: cannot remove 'repo': No such file or directory\n",
            "Cloning into 'caltech_pedestrian_extractor'...\n",
            "remote: Enumerating objects: 40, done.\u001b[K\n",
            "remote: Total 40 (delta 0), reused 0 (delta 0), pack-reused 40\u001b[K\n",
            "Unpacking objects: 100% (40/40), done.\n"
          ],
          "name": "stdout"
        }
      ]
    },
    {
      "cell_type": "code",
      "metadata": {
        "id": "5Nu1yjb9pqbu",
        "colab": {
          "base_uri": "https://localhost:8080/"
        },
        "outputId": "c57f05ae-4b8f-4703-fd5e-542d0bf1165a"
      },
      "source": [
        "# Convert .seq files into .jpg\n",
        "!python converter.py -data_path '/content/gdrive/MyDrive/dataset_pedestrian'"
      ],
      "execution_count": null,
      "outputs": [
        {
          "output_type": "stream",
          "text": [
            "> Saving extracted data to: /content/gdrive/MyDrive/dataset_pedestrian/extracted_data\n",
            "\n",
            "==> Extract images + annotations from the Caltech Pedestrian Dataset...\n",
            "\n",
            "> Extracting images + annotations from set: set00 (1/11)\n",
            ">> Processing video: set00/V000 (1/15)\n",
            ">> Processing video: set00/V001 (2/15)\n",
            ">> Processing video: set00/V002 (3/15)\n",
            ">> Processing video: set00/V003 (4/15)\n",
            ">> Processing video: set00/V004 (5/15)\n",
            ">> Processing video: set00/V005 (6/15)\n",
            ">> Processing video: set00/V006 (7/15)\n",
            ">> Processing video: set00/V007 (8/15)\n",
            ">> Processing video: set00/V008 (9/15)\n",
            ">> Processing video: set00/V009 (10/15)\n",
            ">> Processing video: set00/V010 (11/15)\n",
            ">> Processing video: set00/V011 (12/15)\n",
            ">> Processing video: set00/V012 (13/15)\n",
            ">> Processing video: set00/V013 (14/15)\n",
            ">> Processing video: set00/V014 (15/15)\n",
            "Traceback (most recent call last):\n",
            "  File \"converter.py\", line 279, in <module>\n",
            "    extract_data(data_path, save_path)\n",
            "  File \"converter.py\", line 259, in extract_data\n",
            "    extract_files(data_path, save_path, sets)\n",
            "  File \"converter.py\", line 189, in extract_files\n",
            "    assert os.path.exists(set_path), 'File does not exists: {}'.format(set_path)\n",
            "AssertionError: File does not exists: /content/gdrive/MyDrive/dataset_pedestrian/set01\n"
          ],
          "name": "stdout"
        }
      ]
    },
    {
      "cell_type": "code",
      "metadata": {
        "colab": {
          "base_uri": "https://localhost:8080/"
        },
        "id": "xDGTnC4XBk6Z",
        "outputId": "6b3d34ca-7246-4e0e-f94c-042baf7597e5"
      },
      "source": [
        "# Check if len of first video corresponds (must be 1845)\n",
        "print(len(os.listdir('/content/gdrive/MyDrive/dataset_pedestrian/extracted_data/set00/V000/images')))"
      ],
      "execution_count": null,
      "outputs": [
        {
          "output_type": "stream",
          "text": [
            "1845\n"
          ],
          "name": "stdout"
        }
      ]
    },
    {
      "cell_type": "markdown",
      "metadata": {
        "id": "vVMp-dZhCZMe"
      },
      "source": [
        "# Create a video out of first video of set00"
      ]
    },
    {
      "cell_type": "code",
      "metadata": {
        "id": "aZdHcjXeCyhg"
      },
      "source": [
        "import cv2\n",
        "\n",
        "\n",
        "image_folder = '/content/gdrive/MyDrive/dataset_pedestrian/extracted_data/set00/V000/images'\n",
        "video_name = 'video.avi'\n",
        "\n",
        "images = [img for img in os.listdir(image_folder) if img.endswith(\".jpg\")]\n",
        "frame = cv2.imread(os.path.join(image_folder, images[0]))\n",
        "height, width, layers = frame.shape\n",
        "\n",
        "video = cv2.VideoWriter(video_name, 0, 1, (width,height))\n",
        "\n",
        "for image in images:\n",
        "    video.write(cv2.imread(os.path.join(image_folder, image)))\n",
        "\n",
        "cv2.destroyAllWindows()\n",
        "video.release()"
      ],
      "execution_count": null,
      "outputs": []
    }
  ]
}